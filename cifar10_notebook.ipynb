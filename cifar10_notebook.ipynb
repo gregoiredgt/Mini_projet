{
 "cells": [
  {
   "cell_type": "markdown",
   "metadata": {},
   "source": [
    "## About the CIFAR-10 dataset\n",
    "\n",
    "[CIFAR-10](https://www.cs.toronto.edu/~kriz/cifar.html) (classification of small images across 10 distinct classes---airplane, automobile, bird, cat, deer, dog, frog, horse, ship & truck).\n",
    "\n",
    "\n",
    "![](cifar_10.png)\n",
    "\n",
    "The CIFAR-10 dataset contains 50000 training examples and 10000 test examples. Each example is a $32 \\times 32 \\times 32$ pixels coloured image."
   ]
  },
  {
   "cell_type": "markdown",
   "metadata": {},
   "source": [
    "## Loading and pre-processing CIFAR-10 dataset\n",
    "\n"
   ]
  },
  {
   "cell_type": "code",
   "execution_count": 2,
   "metadata": {},
   "outputs": [
    {
     "name": "stdout",
     "output_type": "stream",
     "text": [
      "(50000, 32, 32, 3)\n",
      "(10000, 32, 32, 3)\n",
      "truck\n",
      "ship\n",
      "frog\n",
      "(50000, 3072)\n",
      "(10000, 3072)\n",
      "[[ 0.25490198  0.29803923  0.27843139 ...,  0.41568628  0.41960785\n",
      "   0.40000001]\n",
      " [ 0.25098041  0.1882353   0.16078432 ...,  0.17647059  0.09019608\n",
      "   0.09019608]\n",
      " [ 0.14509805  0.21176471  0.11372549 ...,  0.31764707  0.37254903\n",
      "   0.27450982]\n",
      " [ 0.6156863   0.68235296  0.80000001 ...,  0.70980394  0.73333335\n",
      "   0.78823531]]\n"
     ]
    }
   ],
   "source": [
    "#%matplotlib inline\n",
    "import numpy as np\n",
    "import matplotlib.pyplot as plt\n",
    "import itertools\n",
    "import os\n",
    "os.environ['KERAS_BACKEND']=\"theano\"\n",
    "import theano\n",
    "\n",
    "from keras.datasets import cifar10 # subroutines for fetching the CIFAR-10 dataset\n",
    "from keras.utils import np_utils # utilities for one-hot encoding of ground truth values\n",
    "from sklearn.utils import shuffle\n",
    "from skimage import feature\n",
    "\n",
    "(X_train_img, y_train), (X_test_img, y_test) = cifar10.load_data() # fetch CIFAR-10 data # dirname=\".\"??\n",
    "print(X_train_img.shape)\n",
    "print(X_test_img.shape)\n",
    "class_names = ['plane', 'car', 'bird', 'cat', 'deer', 'dog', 'frog', 'horse', 'ship', 'truck']\n",
    "\n",
    "# Shuffle examples\n",
    "X_train_img, y_train = shuffle(X_train_img, y_train)\n",
    "X_test_img, y_test = shuffle(X_test_img, y_test)\n",
    "\n",
    "plt.figure()\n",
    "plt.imshow(X_train_img[0])\n",
    "plt.show()\n",
    "print(class_names[int(y_train[0])])\n",
    "plt.figure()\n",
    "plt.imshow(X_train_img[1])\n",
    "plt.show()\n",
    "print(class_names[int(y_train[1])])\n",
    "plt.figure()\n",
    "plt.imshow(X_train_img[2])\n",
    "plt.show()\n",
    "print(class_names[int(y_train[2])])\n",
    "\n",
    "num_train, depth, height, width = X_train_img.shape # there are 50000 training examples in CIFAR-10 \n",
    "num_test = X_test_img.shape[0] # there are 10000 test examples in CIFAR-10\n",
    "num_classes = np.unique(y_train).shape[0] # there are 10 image classes\n",
    "\n",
    "Y_train = np_utils.to_categorical(y_train, num_classes) # One-hot encode the labels\n",
    "Y_test = np_utils.to_categorical(y_test, num_classes) # One-hot encode the labels\n",
    "\n",
    "# Produce a [0;1] normalized \"image\" for potential input into a convNet\n",
    "X_train_img_norm = X_train_img.astype('float32') \n",
    "X_test_img_norm = X_test_img.astype('float32')\n",
    "X_train_img_norm /= np.max(X_train_img_norm) # Normalise data to [0, 1] range\n",
    "X_test_img_norm /= np.max(X_train_img_norm) # Normalise data to [0, 1] range\n",
    "\n",
    "# Rasterize normalized images into 1D vectors for potential input of raw image into standard ML algo such as kNN, MLP, SVM, etc\n",
    "X_train_vectNorm = X_train_img_norm.reshape(num_train,height*width*depth)\n",
    "X_test_vectNorm = X_test_img_norm.reshape(num_test,height*width*depth)\n",
    "\n",
    "print(X_train_vectNorm.shape)\n",
    "print(X_test_vectNorm.shape)\n",
    "print(X_train_vectNorm[1:5])\n",
    "\n",
    "\n",
    "# Compute HOG feature as potential BETTER input into standard ML algo such as kNN, MLP, SVM, etc\n",
    "\n",
    "Hog_train = []\n",
    "for img in X_train_img :\n",
    "    hog, hog_image = skimage.feature.hog(img, orientations=9, pixels_per_cell=(8, 8), \n",
    "                                    cells_per_block=(3, 3), block_norm=None, \n",
    "                                    visualise=True, transform_sqrt=False, feature_vector=True)\n",
    "    Hog_train.append(hog)\n",
    "\n",
    "# TO BE CORRECTED/FINALIZED!...\n"
   ]
  },
  {
   "cell_type": "markdown",
   "metadata": {},
   "source": [
    "# Une fonction pour afficher graphiquement les matrices de confusion"
   ]
  },
  {
   "cell_type": "code",
   "execution_count": 5,
   "metadata": {},
   "outputs": [],
   "source": [
    "#%matplotlib inline\n",
    "import matplotlib.pyplot as plt\n",
    "import itertools\n",
    "\n",
    "# Definition for the function that plot the confusion matrix\n",
    "# See : http://www.sci-kit.org/\n",
    "def plot_confusion_matrix(cm, classes,\n",
    "                          normalize=False,\n",
    "                          title='Confusion matrix',\n",
    "                          cmap=plt.cm.Blues):\n",
    "    \"\"\"\n",
    "    This function prints and plots the confusion matrix.\n",
    "    Normalization can be applied by setting `normalize=True`.\n",
    "    \"\"\"\n",
    "    plt.imshow(cm, interpolation='nearest', cmap=cmap)\n",
    "    plt.title(title)\n",
    "    plt.colorbar()\n",
    "    tick_marks = np.arange(len(classes))\n",
    "    plt.xticks(tick_marks, classes, rotation=45)\n",
    "    plt.yticks(tick_marks, classes)\n",
    "\n",
    "    if normalize:\n",
    "        cm = cm.astype('float') / cm.sum(axis=1)[:, np.newaxis]\n",
    "        print(\"Normalized confusion matrix\")\n",
    "    else:\n",
    "        print('Confusion matrix, without normalization')\n",
    "\n",
    "    print(cm)\n",
    "\n",
    "    thresh = cm.max() / 2.\n",
    "    for i, j in itertools.product(range(cm.shape[0]), range(cm.shape[1])):\n",
    "        plt.text(j, i, cm[i, j],\n",
    "                 horizontalalignment=\"center\",\n",
    "                 color=\"white\" if cm[i, j] > thresh else \"black\")\n",
    "\n",
    "    plt.tight_layout()\n",
    "    plt.ylabel('True label')\n",
    "    plt.xlabel('Predicted label')"
   ]
  },
  {
   "cell_type": "markdown",
   "metadata": {},
   "source": [
    "## Baseline method: kNN on raw normalized pixels"
   ]
  },
  {
   "cell_type": "code",
   "execution_count": 4,
   "metadata": {},
   "outputs": [
    {
     "name": "stdout",
     "output_type": "stream",
     "text": [
      "(50000, 1)\n",
      "[[996   0   4   0   0   0   0   0   0   0]\n",
      " [992   0   8   0   0   0   0   0   0   0]\n",
      " [991   0   9   0   0   0   0   0   0   0]\n",
      " [989   0  11   0   0   0   0   0   0   0]\n",
      " [990   0  10   0   0   0   0   0   0   0]\n",
      " [992   0   8   0   0   0   0   0   0   0]\n",
      " [993   0   6   0   0   0   0   0   1   0]\n",
      " [982   0  18   0   0   0   0   0   0   0]\n",
      " [990   0  10   0   0   0   0   0   0   0]\n",
      " [995   0   5   0   0   0   0   0   0   0]]\n"
     ]
    },
    {
     "ename": "NameError",
     "evalue": "name 'plot_confusion_matrix' is not defined",
     "output_type": "error",
     "traceback": [
      "\u001b[0;31m---------------------------------------------------------------------------\u001b[0m",
      "\u001b[0;31mNameError\u001b[0m                                 Traceback (most recent call last)",
      "\u001b[0;32m<ipython-input-4-23b99acd8371>\u001b[0m in \u001b[0;36m<module>\u001b[0;34m()\u001b[0m\n\u001b[1;32m     15\u001b[0m \u001b[0mplt\u001b[0m\u001b[0;34m.\u001b[0m\u001b[0mfigure\u001b[0m\u001b[0;34m(\u001b[0m\u001b[0;34m)\u001b[0m\u001b[0;34m\u001b[0m\u001b[0m\n\u001b[1;32m     16\u001b[0m \u001b[0mclass_names\u001b[0m \u001b[0;34m=\u001b[0m \u001b[0;34m[\u001b[0m\u001b[0;34m'plane'\u001b[0m\u001b[0;34m,\u001b[0m \u001b[0;34m'car'\u001b[0m\u001b[0;34m,\u001b[0m \u001b[0;34m'bird'\u001b[0m\u001b[0;34m,\u001b[0m \u001b[0;34m'cat'\u001b[0m\u001b[0;34m,\u001b[0m \u001b[0;34m'deer'\u001b[0m\u001b[0;34m,\u001b[0m \u001b[0;34m'dog'\u001b[0m\u001b[0;34m,\u001b[0m \u001b[0;34m'frog'\u001b[0m\u001b[0;34m,\u001b[0m \u001b[0;34m'horse'\u001b[0m\u001b[0;34m,\u001b[0m \u001b[0;34m'ship'\u001b[0m\u001b[0;34m,\u001b[0m \u001b[0;34m'truck'\u001b[0m\u001b[0;34m]\u001b[0m\u001b[0;34m\u001b[0m\u001b[0m\n\u001b[0;32m---> 17\u001b[0;31m \u001b[0mplot_confusion_matrix\u001b[0m\u001b[0;34m(\u001b[0m\u001b[0mcnf_matrix_knn\u001b[0m\u001b[0;34m,\u001b[0m \u001b[0mclasses\u001b[0m\u001b[0;34m=\u001b[0m\u001b[0mclass_names\u001b[0m\u001b[0;34m,\u001b[0m \u001b[0mnormalize\u001b[0m\u001b[0;34m=\u001b[0m\u001b[0mTrue\u001b[0m\u001b[0;34m,\u001b[0m \u001b[0mtitle\u001b[0m\u001b[0;34m=\u001b[0m\u001b[0;34m'Normalized confusion matrix'\u001b[0m\u001b[0;34m)\u001b[0m\u001b[0;34m\u001b[0m\u001b[0m\n\u001b[0m\u001b[1;32m     18\u001b[0m \u001b[0mplt\u001b[0m\u001b[0;34m.\u001b[0m\u001b[0mshow\u001b[0m\u001b[0;34m(\u001b[0m\u001b[0;34m)\u001b[0m\u001b[0;34m\u001b[0m\u001b[0m\n",
      "\u001b[0;31mNameError\u001b[0m: name 'plot_confusion_matrix' is not defined"
     ]
    }
   ],
   "source": [
    "from sklearn import neighbors\n",
    "from sklearn.metrics import confusion_matrix\n",
    "\n",
    "clf = neighbors.KNeighborsClassifier(n_neighbors=5)\n",
    "print(y_train.shape)\n",
    "clf.fit(X_train_vectNorm[:30000], y_train.ravel()[:30000]) # utiliser toutes les données conduit à une Memory Error\n",
    "\n",
    "y_test_pred_knn = clf.predict(X_test_vectNorm)\n",
    "\n",
    "\n",
    "cnf_matrix_knn = confusion_matrix(y_test, y_test_pred_knn)\n",
    "print(cnf_matrix_knn)\n",
    "\n",
    "np.set_printoptions(precision=2)\n",
    "plt.figure()\n",
    "class_names = ['plane', 'car', 'bird', 'cat', 'deer', 'dog', 'frog', 'horse', 'ship', 'truck']\n",
    "plot_confusion_matrix(cnf_matrix_knn, classes=class_names, normalize=True, title='Normalized confusion matrix')\n",
    "plt.show()"
   ]
  },
  {
   "cell_type": "markdown",
   "metadata": {},
   "source": [
    "### Remarques sur les résultats :\n",
    "\n",
    "La matrice de confusion est très mauvaise : toutes les images sont vues comme appartenant à la première classe. Comparer les pixels des images n'est pas une méthode très pertinente pour classifier les images. Par ailleurs, l'algorithme des plus proches voisins est très lent à s'exécuter, et utilise beaucoup de mémoire : nous avons dû limiter la taille du jeu d'entraînement pour ne pas avoir d'erreur de mémoire."
   ]
  },
  {
   "cell_type": "markdown",
   "metadata": {
    "collapsed": true
   },
   "source": [
    "## Random Forests on raw normalized pixels"
   ]
  },
  {
   "cell_type": "code",
   "execution_count": null,
   "metadata": {},
   "outputs": [],
   "source": [
    "#Random Forests\n",
    "\n",
    "from sklearn.ensemble import RandomForestClassifier\n",
    "from sklearn.metrics import classification_report\n",
    "\n",
    "# Create and train a Random Forest classifier\n",
    "clf = RandomForestClassifier(n_estimators=10, criterion='gini', max_depth=None,\n",
    "                             min_samples_split=2, min_samples_leaf=1, \n",
    "                             min_weight_fraction_leaf=0.0, max_features='auto', \n",
    "                             max_leaf_nodes=None, min_impurity_decrease=1e-07, bootstrap=True, \n",
    "                             oob_score=False, n_jobs=1, random_state=None, \n",
    "                             verbose=0, warm_start=False, class_weight=None)\n",
    "clf = clf.fit(X_train_vectNorm, y_train.ravel())\n",
    "\n",
    "print(\"n_estimators=\", clf.n_estimators, \" max_depth=\",clf.max_depth,\n",
    "      \"max_features=\", clf.max_features)\n",
    "print(clf)\n",
    "\n",
    "# accuracy :\n",
    "score = clf.score(X_test_vectNorm, y_test)\n",
    "print(\"Accuracy (on test set) = \", score)\n",
    "\n",
    "# resultats et matrice de confusion\n",
    "y_true, y_pred_rf = y_test, clf.predict(X_test_vectNorm)\n",
    "class_names = ['plane', 'car', 'bird', 'cat', 'deer', 'dog', 'frog', 'horse', 'ship', 'truck']\n",
    "print( classification_report(y_true, y_pred_rf, target_names=class_names) )\n",
    "\n",
    "print(\"\\n CONFUSION MATRIX\")\n",
    "cnf_matrix_rf=confusion_matrix(y_true, y_pred_rf)\n",
    "print( cnf_matrix_rf )\n",
    "np.set_printoptions(precision=2)\n",
    "plt.figure()\n",
    "plot_confusion_matrix(cnf_matrix_rf, classes=class_names, normalize=True, title='Normalized confusion matrix')\n",
    "plt.show()"

   ]
  },
  {
   "cell_type": "code",
   "execution_count": null,
   "metadata": {},
   "outputs": [],
   "source": []
  }
 ],
 "metadata": {
  "anaconda-cloud": {},
  "kernelspec": {
   "display_name": "Python 2",
   "language": "python",
   "name": "python2"
  },
  "language_info": {
   "codemirror_mode": {
    "name": "ipython",
    "version": 2
   },
   "file_extension": ".py",
   "mimetype": "text/x-python",
   "name": "python",
   "nbconvert_exporter": "python",
   "pygments_lexer": "ipython2",
   "version": "2.7.3"
  }
 },
 "nbformat": 4,
 "nbformat_minor": 1
}
